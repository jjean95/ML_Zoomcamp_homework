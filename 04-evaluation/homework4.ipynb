{
 "cells": [
  {
   "cell_type": "code",
   "execution_count": 1,
   "id": "e37be8f1-2132-46f0-9d1d-c2d1dc4e0ceb",
   "metadata": {},
   "outputs": [],
   "source": [
    "import pandas as pd\n",
    "import numpy as np"
   ]
  },
  {
   "cell_type": "code",
   "execution_count": 2,
   "id": "57cc351b-944c-4c15-a222-21218e286697",
   "metadata": {},
   "outputs": [],
   "source": [
    "df = pd.read_csv('https://raw.githubusercontent.com/alexeygrigorev/datasets/master/course_lead_scoring.csv')"
   ]
  },
  {
   "cell_type": "code",
   "execution_count": 3,
   "id": "1c174dff-ced4-40a8-aca9-e982887ab739",
   "metadata": {},
   "outputs": [
    {
     "data": {
      "text/html": [
       "<div>\n",
       "<style scoped>\n",
       "    .dataframe tbody tr th:only-of-type {\n",
       "        vertical-align: middle;\n",
       "    }\n",
       "\n",
       "    .dataframe tbody tr th {\n",
       "        vertical-align: top;\n",
       "    }\n",
       "\n",
       "    .dataframe thead th {\n",
       "        text-align: right;\n",
       "    }\n",
       "</style>\n",
       "<table border=\"1\" class=\"dataframe\">\n",
       "  <thead>\n",
       "    <tr style=\"text-align: right;\">\n",
       "      <th></th>\n",
       "      <th>lead_source</th>\n",
       "      <th>industry</th>\n",
       "      <th>number_of_courses_viewed</th>\n",
       "      <th>annual_income</th>\n",
       "      <th>employment_status</th>\n",
       "      <th>location</th>\n",
       "      <th>interaction_count</th>\n",
       "      <th>lead_score</th>\n",
       "      <th>converted</th>\n",
       "    </tr>\n",
       "  </thead>\n",
       "  <tbody>\n",
       "    <tr>\n",
       "      <th>0</th>\n",
       "      <td>paid_ads</td>\n",
       "      <td>NaN</td>\n",
       "      <td>1</td>\n",
       "      <td>79450.0</td>\n",
       "      <td>unemployed</td>\n",
       "      <td>south_america</td>\n",
       "      <td>4</td>\n",
       "      <td>0.94</td>\n",
       "      <td>1</td>\n",
       "    </tr>\n",
       "    <tr>\n",
       "      <th>1</th>\n",
       "      <td>social_media</td>\n",
       "      <td>retail</td>\n",
       "      <td>1</td>\n",
       "      <td>46992.0</td>\n",
       "      <td>employed</td>\n",
       "      <td>south_america</td>\n",
       "      <td>1</td>\n",
       "      <td>0.80</td>\n",
       "      <td>0</td>\n",
       "    </tr>\n",
       "    <tr>\n",
       "      <th>2</th>\n",
       "      <td>events</td>\n",
       "      <td>healthcare</td>\n",
       "      <td>5</td>\n",
       "      <td>78796.0</td>\n",
       "      <td>unemployed</td>\n",
       "      <td>australia</td>\n",
       "      <td>3</td>\n",
       "      <td>0.69</td>\n",
       "      <td>1</td>\n",
       "    </tr>\n",
       "    <tr>\n",
       "      <th>3</th>\n",
       "      <td>paid_ads</td>\n",
       "      <td>retail</td>\n",
       "      <td>2</td>\n",
       "      <td>83843.0</td>\n",
       "      <td>NaN</td>\n",
       "      <td>australia</td>\n",
       "      <td>1</td>\n",
       "      <td>0.87</td>\n",
       "      <td>0</td>\n",
       "    </tr>\n",
       "    <tr>\n",
       "      <th>4</th>\n",
       "      <td>referral</td>\n",
       "      <td>education</td>\n",
       "      <td>3</td>\n",
       "      <td>85012.0</td>\n",
       "      <td>self_employed</td>\n",
       "      <td>europe</td>\n",
       "      <td>3</td>\n",
       "      <td>0.62</td>\n",
       "      <td>1</td>\n",
       "    </tr>\n",
       "  </tbody>\n",
       "</table>\n",
       "</div>"
      ],
      "text/plain": [
       "    lead_source    industry  number_of_courses_viewed  annual_income  \\\n",
       "0      paid_ads         NaN                         1        79450.0   \n",
       "1  social_media      retail                         1        46992.0   \n",
       "2        events  healthcare                         5        78796.0   \n",
       "3      paid_ads      retail                         2        83843.0   \n",
       "4      referral   education                         3        85012.0   \n",
       "\n",
       "  employment_status       location  interaction_count  lead_score  converted  \n",
       "0        unemployed  south_america                  4        0.94          1  \n",
       "1          employed  south_america                  1        0.80          0  \n",
       "2        unemployed      australia                  3        0.69          1  \n",
       "3               NaN      australia                  1        0.87          0  \n",
       "4     self_employed         europe                  3        0.62          1  "
      ]
     },
     "execution_count": 3,
     "metadata": {},
     "output_type": "execute_result"
    }
   ],
   "source": [
    "df.head(5)"
   ]
  },
  {
   "cell_type": "code",
   "execution_count": 4,
   "id": "b7cdd919-e4f5-48ad-86af-d7ce3b5ade7d",
   "metadata": {},
   "outputs": [
    {
     "name": "stdout",
     "output_type": "stream",
     "text": [
      "<class 'pandas.core.frame.DataFrame'>\n",
      "RangeIndex: 1462 entries, 0 to 1461\n",
      "Data columns (total 9 columns):\n",
      " #   Column                    Non-Null Count  Dtype  \n",
      "---  ------                    --------------  -----  \n",
      " 0   lead_source               1334 non-null   object \n",
      " 1   industry                  1328 non-null   object \n",
      " 2   number_of_courses_viewed  1462 non-null   int64  \n",
      " 3   annual_income             1281 non-null   float64\n",
      " 4   employment_status         1362 non-null   object \n",
      " 5   location                  1399 non-null   object \n",
      " 6   interaction_count         1462 non-null   int64  \n",
      " 7   lead_score                1462 non-null   float64\n",
      " 8   converted                 1462 non-null   int64  \n",
      "dtypes: float64(2), int64(3), object(4)\n",
      "memory usage: 102.9+ KB\n"
     ]
    }
   ],
   "source": [
    "df.info()"
   ]
  },
  {
   "cell_type": "code",
   "execution_count": 5,
   "id": "b953b143-6df0-4235-825f-c7f0f11a8384",
   "metadata": {},
   "outputs": [
    {
     "data": {
      "text/plain": [
       "lead_source                 128\n",
       "industry                    134\n",
       "number_of_courses_viewed      0\n",
       "annual_income               181\n",
       "employment_status           100\n",
       "location                     63\n",
       "interaction_count             0\n",
       "lead_score                    0\n",
       "converted                     0\n",
       "dtype: int64"
      ]
     },
     "execution_count": 5,
     "metadata": {},
     "output_type": "execute_result"
    }
   ],
   "source": [
    "df.isnull().sum()"
   ]
  },
  {
   "cell_type": "code",
   "execution_count": 6,
   "id": "9f89ffbf-e81d-4178-a857-86f6f776ec13",
   "metadata": {},
   "outputs": [],
   "source": [
    "columns_to_fill = ['lead_source', 'industry', 'employment_status', 'location']\n",
    "\n",
    "# Fill NaN values in the selected object columns with the string \"NA\"\n",
    "df[columns_to_fill] = df[columns_to_fill].fillna(\"NA\")"
   ]
  },
  {
   "cell_type": "code",
   "execution_count": 7,
   "id": "f3c12783-8a2a-4cc8-a295-cabf8b1c1199",
   "metadata": {},
   "outputs": [],
   "source": [
    "df.annual_income = df.annual_income.fillna(0.0)"
   ]
  },
  {
   "cell_type": "code",
   "execution_count": 8,
   "id": "c102eaa8-271c-4da0-be44-f6346e09cb2d",
   "metadata": {},
   "outputs": [],
   "source": [
    "##Q1\n",
    "#Split the data into 3 parts: train/validation/test with 60%/20%/20% distribution. Use train_test_split function for that with random_state=1"
   ]
  },
  {
   "cell_type": "code",
   "execution_count": 9,
   "id": "8a1fd058-27de-43ca-9b34-aa6e19772be5",
   "metadata": {},
   "outputs": [],
   "source": [
    "#In this dataset our desired target for classification task will be \"converted\" variable - has the client signed up to the platform or not."
   ]
  },
  {
   "cell_type": "code",
   "execution_count": 10,
   "id": "133c3c8f-39df-4c0d-80b4-55fe90ddd3bd",
   "metadata": {},
   "outputs": [],
   "source": [
    "from sklearn.model_selection import train_test_split, KFold\n",
    "from sklearn.metrics import roc_auc_score\n",
    "from sklearn.feature_extraction import DictVectorizer\n",
    "from sklearn.linear_model import LogisticRegression\n",
    "\n",
    "import seaborn as sns\n",
    "import matplotlib.pyplot as plt"
   ]
  },
  {
   "cell_type": "code",
   "execution_count": 11,
   "id": "1f313404-1ac0-4495-8f76-88d9bcb92c69",
   "metadata": {},
   "outputs": [],
   "source": [
    "# Split into full_train (80%) and test (20%)\n",
    "df_full_train, df_test = train_test_split(df, test_size=0.2, random_state=1)"
   ]
  },
  {
   "cell_type": "code",
   "execution_count": 12,
   "id": "e36abf2c-dc12-42e4-8bc1-308b6d776a60",
   "metadata": {},
   "outputs": [],
   "source": [
    "# Split full_train into train (75% of full_train, which is 60% of original)\n",
    "# and validation (25% of full_train, which is 20% of original)\n",
    "df_train, df_val = train_test_split(df_full_train, test_size=0.25, random_state=1)"
   ]
  },
  {
   "cell_type": "code",
   "execution_count": 13,
   "id": "8999e474-faa2-46ff-b06e-977d9ce1ab7e",
   "metadata": {},
   "outputs": [
    {
     "name": "stdout",
     "output_type": "stream",
     "text": [
      "Train set size: 876\n",
      "Validation set size: 293\n",
      "Test set size: 293\n"
     ]
    }
   ],
   "source": [
    "# Separate features (X) and target (y) for each set\n",
    "X_train_full = df_full_train.drop(['converted'], axis=1)\n",
    "y_train_full = df_full_train['converted']\n",
    "\n",
    "X_train = df_train.drop('converted', axis=1)\n",
    "y_train = df_train['converted']\n",
    "\n",
    "X_val = df_val.drop('converted', axis=1)\n",
    "y_val = df_val['converted']\n",
    "\n",
    "X_test = df_test.drop('converted', axis=1)\n",
    "y_test = df_test['converted']\n",
    "\n",
    "print(f\"Train set size: {len(df_train)}\")\n",
    "print(f\"Validation set size: {len(df_val)}\")\n",
    "print(f\"Test set size: {len(df_test)}\")"
   ]
  },
  {
   "cell_type": "code",
   "execution_count": 14,
   "id": "02376253-7d13-4a35-a1c4-1560fe9b7e59",
   "metadata": {},
   "outputs": [
    {
     "name": "stdout",
     "output_type": "stream",
     "text": [
      "Variable:lead_score --> auc = 0.6144993577250176\n",
      "Variable:number_of_courses_viewed --> auc = 0.7635680590007088\n",
      "Variable:interaction_count --> auc = 0.738270176293409\n",
      "Variable:annual_income --> auc = 0.5519578313253012\n"
     ]
    }
   ],
   "source": [
    "for col in ['lead_score', 'number_of_courses_viewed', 'interaction_count', 'annual_income']:\n",
    "    auc = roc_auc_score(df_train.converted, df_train[col])\n",
    "    print(f\"Variable:{col} --> auc = {auc if auc >= 0.5 else roc_auc_score(df_train.converted, -df_train[col])}\")"
   ]
  },
  {
   "cell_type": "code",
   "execution_count": 15,
   "id": "cdc795e1-73cc-47b3-8419-3080044e99e3",
   "metadata": {},
   "outputs": [],
   "source": [
    "##Q2\n",
    "#Apply one-hot-encoding using DictVectorizer and train the logistic regression with these parameters:\n",
    "#LogisticRegression(solver='liblinear', C=1.0, max_iter=1000)\n",
    "#What's the AUC of this model on the validation dataset? (round to 3 digits)"
   ]
  },
  {
   "cell_type": "code",
   "execution_count": 16,
   "id": "3aaf01e7-9996-45a8-849c-4c26a29922fc",
   "metadata": {},
   "outputs": [
    {
     "data": {
      "text/html": [
       "<div>\n",
       "<style scoped>\n",
       "    .dataframe tbody tr th:only-of-type {\n",
       "        vertical-align: middle;\n",
       "    }\n",
       "\n",
       "    .dataframe tbody tr th {\n",
       "        vertical-align: top;\n",
       "    }\n",
       "\n",
       "    .dataframe thead th {\n",
       "        text-align: right;\n",
       "    }\n",
       "</style>\n",
       "<table border=\"1\" class=\"dataframe\">\n",
       "  <thead>\n",
       "    <tr style=\"text-align: right;\">\n",
       "      <th></th>\n",
       "      <th>annual_income</th>\n",
       "      <th>employment_status=NA</th>\n",
       "      <th>employment_status=employed</th>\n",
       "      <th>employment_status=self_employed</th>\n",
       "      <th>employment_status=student</th>\n",
       "      <th>employment_status=unemployed</th>\n",
       "      <th>industry=NA</th>\n",
       "      <th>industry=education</th>\n",
       "      <th>industry=finance</th>\n",
       "      <th>industry=healthcare</th>\n",
       "      <th>...</th>\n",
       "      <th>lead_source=social_media</th>\n",
       "      <th>location=NA</th>\n",
       "      <th>location=africa</th>\n",
       "      <th>location=asia</th>\n",
       "      <th>location=australia</th>\n",
       "      <th>location=europe</th>\n",
       "      <th>location=middle_east</th>\n",
       "      <th>location=north_america</th>\n",
       "      <th>location=south_america</th>\n",
       "      <th>number_of_courses_viewed</th>\n",
       "    </tr>\n",
       "  </thead>\n",
       "  <tbody>\n",
       "    <tr>\n",
       "      <th>0</th>\n",
       "      <td>95543.0</td>\n",
       "      <td>0.0</td>\n",
       "      <td>0.0</td>\n",
       "      <td>0.0</td>\n",
       "      <td>0.0</td>\n",
       "      <td>1.0</td>\n",
       "      <td>0.0</td>\n",
       "      <td>0.0</td>\n",
       "      <td>0.0</td>\n",
       "      <td>0.0</td>\n",
       "      <td>...</td>\n",
       "      <td>0.0</td>\n",
       "      <td>0.0</td>\n",
       "      <td>0.0</td>\n",
       "      <td>0.0</td>\n",
       "      <td>0.0</td>\n",
       "      <td>1.0</td>\n",
       "      <td>0.0</td>\n",
       "      <td>0.0</td>\n",
       "      <td>0.0</td>\n",
       "      <td>2.0</td>\n",
       "    </tr>\n",
       "    <tr>\n",
       "      <th>1</th>\n",
       "      <td>54924.0</td>\n",
       "      <td>0.0</td>\n",
       "      <td>0.0</td>\n",
       "      <td>0.0</td>\n",
       "      <td>1.0</td>\n",
       "      <td>0.0</td>\n",
       "      <td>1.0</td>\n",
       "      <td>0.0</td>\n",
       "      <td>0.0</td>\n",
       "      <td>0.0</td>\n",
       "      <td>...</td>\n",
       "      <td>0.0</td>\n",
       "      <td>0.0</td>\n",
       "      <td>0.0</td>\n",
       "      <td>0.0</td>\n",
       "      <td>0.0</td>\n",
       "      <td>0.0</td>\n",
       "      <td>0.0</td>\n",
       "      <td>0.0</td>\n",
       "      <td>1.0</td>\n",
       "      <td>1.0</td>\n",
       "    </tr>\n",
       "    <tr>\n",
       "      <th>2</th>\n",
       "      <td>77352.0</td>\n",
       "      <td>0.0</td>\n",
       "      <td>0.0</td>\n",
       "      <td>0.0</td>\n",
       "      <td>0.0</td>\n",
       "      <td>1.0</td>\n",
       "      <td>0.0</td>\n",
       "      <td>0.0</td>\n",
       "      <td>0.0</td>\n",
       "      <td>1.0</td>\n",
       "      <td>...</td>\n",
       "      <td>0.0</td>\n",
       "      <td>0.0</td>\n",
       "      <td>0.0</td>\n",
       "      <td>0.0</td>\n",
       "      <td>0.0</td>\n",
       "      <td>1.0</td>\n",
       "      <td>0.0</td>\n",
       "      <td>0.0</td>\n",
       "      <td>0.0</td>\n",
       "      <td>2.0</td>\n",
       "    </tr>\n",
       "    <tr>\n",
       "      <th>3</th>\n",
       "      <td>34600.0</td>\n",
       "      <td>0.0</td>\n",
       "      <td>1.0</td>\n",
       "      <td>0.0</td>\n",
       "      <td>0.0</td>\n",
       "      <td>0.0</td>\n",
       "      <td>0.0</td>\n",
       "      <td>0.0</td>\n",
       "      <td>0.0</td>\n",
       "      <td>0.0</td>\n",
       "      <td>...</td>\n",
       "      <td>0.0</td>\n",
       "      <td>0.0</td>\n",
       "      <td>0.0</td>\n",
       "      <td>0.0</td>\n",
       "      <td>0.0</td>\n",
       "      <td>0.0</td>\n",
       "      <td>0.0</td>\n",
       "      <td>0.0</td>\n",
       "      <td>1.0</td>\n",
       "      <td>2.0</td>\n",
       "    </tr>\n",
       "    <tr>\n",
       "      <th>4</th>\n",
       "      <td>43615.0</td>\n",
       "      <td>0.0</td>\n",
       "      <td>0.0</td>\n",
       "      <td>0.0</td>\n",
       "      <td>0.0</td>\n",
       "      <td>1.0</td>\n",
       "      <td>0.0</td>\n",
       "      <td>1.0</td>\n",
       "      <td>0.0</td>\n",
       "      <td>0.0</td>\n",
       "      <td>...</td>\n",
       "      <td>0.0</td>\n",
       "      <td>0.0</td>\n",
       "      <td>0.0</td>\n",
       "      <td>0.0</td>\n",
       "      <td>0.0</td>\n",
       "      <td>0.0</td>\n",
       "      <td>0.0</td>\n",
       "      <td>0.0</td>\n",
       "      <td>1.0</td>\n",
       "      <td>0.0</td>\n",
       "    </tr>\n",
       "  </tbody>\n",
       "</table>\n",
       "<p>5 rows × 31 columns</p>\n",
       "</div>"
      ],
      "text/plain": [
       "   annual_income  employment_status=NA  employment_status=employed  \\\n",
       "0        95543.0                   0.0                         0.0   \n",
       "1        54924.0                   0.0                         0.0   \n",
       "2        77352.0                   0.0                         0.0   \n",
       "3        34600.0                   0.0                         1.0   \n",
       "4        43615.0                   0.0                         0.0   \n",
       "\n",
       "   employment_status=self_employed  employment_status=student  \\\n",
       "0                              0.0                        0.0   \n",
       "1                              0.0                        1.0   \n",
       "2                              0.0                        0.0   \n",
       "3                              0.0                        0.0   \n",
       "4                              0.0                        0.0   \n",
       "\n",
       "   employment_status=unemployed  industry=NA  industry=education  \\\n",
       "0                           1.0          0.0                 0.0   \n",
       "1                           0.0          1.0                 0.0   \n",
       "2                           1.0          0.0                 0.0   \n",
       "3                           0.0          0.0                 0.0   \n",
       "4                           1.0          0.0                 1.0   \n",
       "\n",
       "   industry=finance  industry=healthcare  ...  lead_source=social_media  \\\n",
       "0               0.0                  0.0  ...                       0.0   \n",
       "1               0.0                  0.0  ...                       0.0   \n",
       "2               0.0                  1.0  ...                       0.0   \n",
       "3               0.0                  0.0  ...                       0.0   \n",
       "4               0.0                  0.0  ...                       0.0   \n",
       "\n",
       "   location=NA  location=africa  location=asia  location=australia  \\\n",
       "0          0.0              0.0            0.0                 0.0   \n",
       "1          0.0              0.0            0.0                 0.0   \n",
       "2          0.0              0.0            0.0                 0.0   \n",
       "3          0.0              0.0            0.0                 0.0   \n",
       "4          0.0              0.0            0.0                 0.0   \n",
       "\n",
       "   location=europe  location=middle_east  location=north_america  \\\n",
       "0              1.0                   0.0                     0.0   \n",
       "1              0.0                   0.0                     0.0   \n",
       "2              1.0                   0.0                     0.0   \n",
       "3              0.0                   0.0                     0.0   \n",
       "4              0.0                   0.0                     0.0   \n",
       "\n",
       "   location=south_america  number_of_courses_viewed  \n",
       "0                     0.0                       2.0  \n",
       "1                     1.0                       1.0  \n",
       "2                     0.0                       2.0  \n",
       "3                     1.0                       2.0  \n",
       "4                     1.0                       0.0  \n",
       "\n",
       "[5 rows x 31 columns]"
      ]
     },
     "execution_count": 16,
     "metadata": {},
     "output_type": "execute_result"
    }
   ],
   "source": [
    "train_full_dicts = X_train_full.to_dict(orient='records')\n",
    "train_dicts = X_train.to_dict(orient='records')\n",
    "val_dicts = X_val.to_dict(orient='records')\n",
    "test_dicts = X_test.to_dict(orient='records')\n",
    "\n",
    "dv = DictVectorizer(sparse=False).set_output(transform='pandas').fit(train_dicts)\n",
    "\n",
    "X_train_full = dv.transform(train_full_dicts)\n",
    "X_train = dv.transform(train_dicts)\n",
    "X_val = dv.transform(val_dicts)\n",
    "X_test = dv.transform(test_dicts)\n",
    "\n",
    "X_train.head(5)"
   ]
  },
  {
   "cell_type": "code",
   "execution_count": 17,
   "id": "df9e1085-f471-4bb9-bb06-46828b5a8151",
   "metadata": {},
   "outputs": [
    {
     "data": {
      "text/plain": [
       "0.817"
      ]
     },
     "execution_count": 17,
     "metadata": {},
     "output_type": "execute_result"
    }
   ],
   "source": [
    "lr = LogisticRegression(solver='liblinear', C=1.0, max_iter=1000).fit(X_train, y_train)\n",
    "y_pred_val = lr.predict_proba(X_val)[:, 1]\n",
    "round(roc_auc_score(y_val, y_pred_val), 3)"
   ]
  },
  {
   "cell_type": "code",
   "execution_count": null,
   "id": "385d7c3c-a657-4cf4-9052-b2d0671e31c1",
   "metadata": {},
   "outputs": [],
   "source": [
    "##Q3\n",
    "#Now let's compute precision and recall for our model.\n",
    "\n",
    "#Evaluate the model on all thresholds from 0.0 to 1.0 with step 0.01\n",
    "#For each threshold, compute precision and recall\n",
    "#Plot them\n",
    "#At which threshold precision and recall curves intersect?"
   ]
  },
  {
   "cell_type": "code",
   "execution_count": 18,
   "id": "93b2acd0-f3ab-427f-8cf4-4a1ecd18129f",
   "metadata": {},
   "outputs": [
    {
     "name": "stderr",
     "output_type": "stream",
     "text": [
      "/tmp/ipykernel_6303/2629256415.py:16: RuntimeWarning: invalid value encountered in scalar divide\n",
      "  precision = TP / (TP+FP)\n"
     ]
    },
    {
     "data": {
      "text/plain": [
       "<matplotlib.legend.Legend at 0x7a5d6e2c1f40>"
      ]
     },
     "execution_count": 18,
     "metadata": {},
     "output_type": "execute_result"
    },
    {
     "data": {
      "image/png": "[encoded data removed]",
      "text/plain": [
       "<Figure size 640x480 with 1 Axes>"
      ]
     },
     "metadata": {},
     "output_type": "display_data"
    }
   ],
   "source": [
    "scores = []\n",
    "\n",
    "for t in np.arange(0, 1, 0.01):\n",
    "    predictions_true = y_pred_val >= t\n",
    "    predictions_false = y_pred_val < t\n",
    "    actual_true = y_val == 1\n",
    "    actual_false = y_val == 0\n",
    "\n",
    "    TN = (predictions_false & actual_false).sum()\n",
    "    FP = (predictions_true & actual_false).sum()\n",
    "    FN = (predictions_false & actual_true).sum()\n",
    "    TP = (predictions_true & actual_true).sum()\n",
    "    confusion_table = np.array([[TN, FP],\n",
    "                                [FN, TP]])\n",
    "\n",
    "    precision = TP / (TP+FP)\n",
    "    recall = TP / (TP+FN)\n",
    "\n",
    "    scores.append([t, precision, recall])\n",
    "\n",
    "df_scores = pd.DataFrame(data=scores, columns=[\"threshold\", \"precision\", \"recall\"])\n",
    "sns.lineplot(df_scores, x=\"threshold\", y=\"precision\", label=\"Precision\")\n",
    "sns.lineplot(df_scores, x=\"threshold\", y=\"recall\", label=\"Recall\")\n",
    "plt.legend()"
   ]
  },
  {
   "cell_type": "code",
   "execution_count": 19,
   "id": "8dd0aea6-a5e5-4723-846c-2ca5170cee46",
   "metadata": {},
   "outputs": [
    {
     "data": {
      "text/plain": [
       "threshold    0.640000\n",
       "precision    0.779070\n",
       "recall       0.783626\n",
       "Name: 64, dtype: float64"
      ]
     },
     "execution_count": 19,
     "metadata": {},
     "output_type": "execute_result"
    }
   ],
   "source": [
    "df_scores.iloc[np.argmin(np.abs(df_scores.precision - df_scores.recall))]"
   ]
  },
  {
   "cell_type": "code",
   "execution_count": 20,
   "id": "e3a8fb95-44d1-4a52-820c-b770f575622c",
   "metadata": {},
   "outputs": [],
   "source": [
    "#Q4\n",
    "##Let's compute F1 for all thresholds from 0.0 to 1.0 with increment 0.01"
   ]
  },
  {
   "cell_type": "code",
   "execution_count": 21,
   "id": "9ec92aa0-cfbe-4eee-87af-e3bb796e98f2",
   "metadata": {},
   "outputs": [
    {
     "data": {
      "text/html": [
       "<div>\n",
       "<style scoped>\n",
       "    .dataframe tbody tr th:only-of-type {\n",
       "        vertical-align: middle;\n",
       "    }\n",
       "\n",
       "    .dataframe tbody tr th {\n",
       "        vertical-align: top;\n",
       "    }\n",
       "\n",
       "    .dataframe thead th {\n",
       "        text-align: right;\n",
       "    }\n",
       "</style>\n",
       "<table border=\"1\" class=\"dataframe\">\n",
       "  <thead>\n",
       "    <tr style=\"text-align: right;\">\n",
       "      <th></th>\n",
       "      <th>threshold</th>\n",
       "      <th>precision</th>\n",
       "      <th>recall</th>\n",
       "      <th>f1</th>\n",
       "    </tr>\n",
       "  </thead>\n",
       "  <tbody>\n",
       "    <tr>\n",
       "      <th>57</th>\n",
       "      <td>0.57</td>\n",
       "      <td>0.732394</td>\n",
       "      <td>0.912281</td>\n",
       "      <td>0.8125</td>\n",
       "    </tr>\n",
       "  </tbody>\n",
       "</table>\n",
       "</div>"
      ],
      "text/plain": [
       "    threshold  precision    recall      f1\n",
       "57       0.57   0.732394  0.912281  0.8125"
      ]
     },
     "execution_count": 21,
     "metadata": {},
     "output_type": "execute_result"
    }
   ],
   "source": [
    "df_scores[\"f1\"] = 2*(df_scores.precision * df_scores.recall) / (df_scores.precision + df_scores.recall)\n",
    "df_scores[df_scores.f1 == df_scores.f1.max()]"
   ]
  },
  {
   "cell_type": "code",
   "execution_count": 22,
   "id": "41601fcf-97d4-4b0e-9234-f305fca4e901",
   "metadata": {},
   "outputs": [
    {
     "data": {
      "text/plain": [
       "<Axes: xlabel='threshold', ylabel='f1'>"
      ]
     },
     "execution_count": 22,
     "metadata": {},
     "output_type": "execute_result"
    },
    {
     "data": {
      "image/png": "[encoded data removed]",
      "text/plain": [
       "<Figure size 640x480 with 1 Axes>"
      ]
     },
     "metadata": {},
     "output_type": "display_data"
    }
   ],
   "source": [
    "sns.lineplot(df_scores, x=\"threshold\", y=\"f1\")"
   ]
  },
  {
   "cell_type": "code",
   "execution_count": 23,
   "id": "e0088006-f22b-4bd3-ae38-42f307d41087",
   "metadata": {},
   "outputs": [],
   "source": [
    "##Q5\n",
    "#5-Fold CV standard deviation "
   ]
  },
  {
   "cell_type": "code",
   "execution_count": 24,
   "id": "d815a7a0-1f47-4cc3-a3b9-b28554771c65",
   "metadata": {},
   "outputs": [],
   "source": [
    "#KFold(n_splits=5, shuffle=True, random_state=1)"
   ]
  },
  {
   "cell_type": "code",
   "execution_count": 25,
   "id": "36ff7c26-7be9-48d6-a333-a7e5631390c8",
   "metadata": {},
   "outputs": [
    {
     "name": "stdout",
     "output_type": "stream",
     "text": [
      "auc = 0.822 ± 0.036\n"
     ]
    }
   ],
   "source": [
    "def train(X, y):\n",
    "    model = LogisticRegression(solver='liblinear', C=1.0, max_iter=1000)\n",
    "    model.fit(X, y)\n",
    "    return model\n",
    "\n",
    "def predict(X, model):\n",
    "    y_pred = model.predict_proba(X)[:, 1]\n",
    "    return y_pred\n",
    "\n",
    "kfold = KFold(n_splits=5, shuffle=True, random_state=1)\n",
    "aucs = []\n",
    "\n",
    "for train_idx, val_idx in kfold.split(X_train_full, y_train_full):\n",
    "    train_X = X_train_full.iloc[train_idx]\n",
    "    val_X = X_train_full.iloc[val_idx]\n",
    "\n",
    "    train_y = y_train_full.iloc[train_idx]\n",
    "    val_y = y_train_full.iloc[val_idx]\n",
    "\n",
    "    model = train(train_X, train_y)\n",
    "    y_pred_val = predict(val_X, model)\n",
    "\n",
    "    auc = roc_auc_score(val_y, y_pred_val)\n",
    "    aucs.append(auc)\n",
    "\n",
    "print('auc = %0.3f ± %0.3f' % (np.mean(aucs), np.std(aucs)))"
   ]
  },
  {
   "cell_type": "code",
   "execution_count": 26,
   "id": "0c2aac4a-62fe-47b5-950f-7ff5998189c4",
   "metadata": {},
   "outputs": [],
   "source": [
    "#Q6\n",
    "#Which C leads to the best mean score?"
   ]
  },
  {
   "cell_type": "code",
   "execution_count": 27,
   "id": "df633fde-8ba9-4eb9-9c8b-08dc6ec8444a",
   "metadata": {},
   "outputs": [
    {
     "name": "stdout",
     "output_type": "stream",
     "text": [
      "C=1e-06, auc = 0.560 ± 0.024\n",
      "C=0.001, auc = 0.867 ± 0.029\n",
      "C=1, auc = 0.822 ± 0.036\n"
     ]
    }
   ],
   "source": [
    "def train(X, y, C):\n",
    "    model = LogisticRegression(solver='liblinear', C=C, max_iter=1000)\n",
    "    model.fit(X, y)\n",
    "    return model\n",
    "\n",
    "kfold = KFold(n_splits=5, shuffle=True, random_state=1)\n",
    "\n",
    "for C in [0.000001, 0.001, 1]:\n",
    "    aucs = []\n",
    "\n",
    "    for train_idx, val_idx in kfold.split(X_train_full, y_train_full):\n",
    "        train_X = X_train_full.iloc[train_idx]\n",
    "        val_X = X_train_full.iloc[val_idx]\n",
    "\n",
    "        train_y = y_train_full.iloc[train_idx]\n",
    "        val_y = y_train_full.iloc[val_idx]\n",
    "\n",
    "        model = train(train_X, train_y, C=C)\n",
    "        y_pred_val = predict(val_X, model)\n",
    "\n",
    "        auc = roc_auc_score(val_y, y_pred_val)\n",
    "        aucs.append(auc)\n",
    "    print('C=%s, auc = %0.3f ± %0.3f' % (C, np.mean(aucs), np.std(aucs)))"
   ]
  },
  {
   "cell_type": "code",
   "execution_count": null,
   "id": "618cd8cd-09f8-4b76-b4d5-73af56dcedce",
   "metadata": {},
   "outputs": [],
   "source": []
  }
 ],
 "metadata": {
  "kernelspec": {
   "display_name": "Python 3 (ipykernel)",
   "language": "python",
   "name": "python3"
  },
  "language_info": {
   "codemirror_mode": {
    "name": "ipython",
    "version": 3
   },
   "file_extension": ".py",
   "mimetype": "text/x-python",
   "name": "python",
   "nbconvert_exporter": "python",
   "pygments_lexer": "ipython3",
   "version": "3.12.1"
  }
 },
 "nbformat": 4,
 "nbformat_minor": 5
}

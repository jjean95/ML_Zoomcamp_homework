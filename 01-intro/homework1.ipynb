{
 "cells": [
  {
   "cell_type": "code",
   "execution_count": 22,
   "id": "f5192be5-b1a2-4787-bcb1-9c0aa943329f",
   "metadata": {},
   "outputs": [],
   "source": [
    "import pandas as pd\n",
    "import numpy as np"
   ]
  },
  {
   "cell_type": "code",
   "execution_count": 5,
   "id": "27a100e0-fd59-4da1-9aec-395d797208e4",
   "metadata": {},
   "outputs": [
    {
     "data": {
      "text/plain": [
       "'2.3.1'"
      ]
     },
     "execution_count": 5,
     "metadata": {},
     "output_type": "execute_result"
    }
   ],
   "source": [
    "# Q1. Pandas Version\n",
    "pd.__version__"
   ]
  },
  {
   "cell_type": "code",
   "execution_count": 3,
   "id": "7bd4cf7d-d918-4764-a312-da4d73b2d737",
   "metadata": {},
   "outputs": [],
   "source": [
    "df = pd.read_csv('https://raw.githubusercontent.com/alexeygrigorev/datasets/master/car_fuel_efficiency.csv')"
   ]
  },
  {
   "cell_type": "code",
   "execution_count": 4,
   "id": "ee52645a-e2fb-4313-870e-3d10f0f4859a",
   "metadata": {},
   "outputs": [
    {
     "data": {
      "text/html": [
       "<div>\n",
       "<style scoped>\n",
       "    .dataframe tbody tr th:only-of-type {\n",
       "        vertical-align: middle;\n",
       "    }\n",
       "\n",
       "    .dataframe tbody tr th {\n",
       "        vertical-align: top;\n",
       "    }\n",
       "\n",
       "    .dataframe thead th {\n",
       "        text-align: right;\n",
       "    }\n",
       "</style>\n",
       "<table border=\"1\" class=\"dataframe\">\n",
       "  <thead>\n",
       "    <tr style=\"text-align: right;\">\n",
       "      <th></th>\n",
       "      <th>engine_displacement</th>\n",
       "      <th>num_cylinders</th>\n",
       "      <th>horsepower</th>\n",
       "      <th>vehicle_weight</th>\n",
       "      <th>acceleration</th>\n",
       "      <th>model_year</th>\n",
       "      <th>origin</th>\n",
       "      <th>fuel_type</th>\n",
       "      <th>drivetrain</th>\n",
       "      <th>num_doors</th>\n",
       "      <th>fuel_efficiency_mpg</th>\n",
       "    </tr>\n",
       "  </thead>\n",
       "  <tbody>\n",
       "    <tr>\n",
       "      <th>0</th>\n",
       "      <td>170</td>\n",
       "      <td>3.0</td>\n",
       "      <td>159.0</td>\n",
       "      <td>3413.433759</td>\n",
       "      <td>17.7</td>\n",
       "      <td>2003</td>\n",
       "      <td>Europe</td>\n",
       "      <td>Gasoline</td>\n",
       "      <td>All-wheel drive</td>\n",
       "      <td>0.0</td>\n",
       "      <td>13.231729</td>\n",
       "    </tr>\n",
       "    <tr>\n",
       "      <th>1</th>\n",
       "      <td>130</td>\n",
       "      <td>5.0</td>\n",
       "      <td>97.0</td>\n",
       "      <td>3149.664934</td>\n",
       "      <td>17.8</td>\n",
       "      <td>2007</td>\n",
       "      <td>USA</td>\n",
       "      <td>Gasoline</td>\n",
       "      <td>Front-wheel drive</td>\n",
       "      <td>0.0</td>\n",
       "      <td>13.688217</td>\n",
       "    </tr>\n",
       "    <tr>\n",
       "      <th>2</th>\n",
       "      <td>170</td>\n",
       "      <td>NaN</td>\n",
       "      <td>78.0</td>\n",
       "      <td>3079.038997</td>\n",
       "      <td>15.1</td>\n",
       "      <td>2018</td>\n",
       "      <td>Europe</td>\n",
       "      <td>Gasoline</td>\n",
       "      <td>Front-wheel drive</td>\n",
       "      <td>0.0</td>\n",
       "      <td>14.246341</td>\n",
       "    </tr>\n",
       "    <tr>\n",
       "      <th>3</th>\n",
       "      <td>220</td>\n",
       "      <td>4.0</td>\n",
       "      <td>NaN</td>\n",
       "      <td>2542.392402</td>\n",
       "      <td>20.2</td>\n",
       "      <td>2009</td>\n",
       "      <td>USA</td>\n",
       "      <td>Diesel</td>\n",
       "      <td>All-wheel drive</td>\n",
       "      <td>2.0</td>\n",
       "      <td>16.912736</td>\n",
       "    </tr>\n",
       "    <tr>\n",
       "      <th>4</th>\n",
       "      <td>210</td>\n",
       "      <td>1.0</td>\n",
       "      <td>140.0</td>\n",
       "      <td>3460.870990</td>\n",
       "      <td>14.4</td>\n",
       "      <td>2009</td>\n",
       "      <td>Europe</td>\n",
       "      <td>Gasoline</td>\n",
       "      <td>All-wheel drive</td>\n",
       "      <td>2.0</td>\n",
       "      <td>12.488369</td>\n",
       "    </tr>\n",
       "  </tbody>\n",
       "</table>\n",
       "</div>"
      ],
      "text/plain": [
       "   engine_displacement  num_cylinders  horsepower  vehicle_weight  \\\n",
       "0                  170            3.0       159.0     3413.433759   \n",
       "1                  130            5.0        97.0     3149.664934   \n",
       "2                  170            NaN        78.0     3079.038997   \n",
       "3                  220            4.0         NaN     2542.392402   \n",
       "4                  210            1.0       140.0     3460.870990   \n",
       "\n",
       "   acceleration  model_year  origin fuel_type         drivetrain  num_doors  \\\n",
       "0          17.7        2003  Europe  Gasoline    All-wheel drive        0.0   \n",
       "1          17.8        2007     USA  Gasoline  Front-wheel drive        0.0   \n",
       "2          15.1        2018  Europe  Gasoline  Front-wheel drive        0.0   \n",
       "3          20.2        2009     USA    Diesel    All-wheel drive        2.0   \n",
       "4          14.4        2009  Europe  Gasoline    All-wheel drive        2.0   \n",
       "\n",
       "   fuel_efficiency_mpg  \n",
       "0            13.231729  \n",
       "1            13.688217  \n",
       "2            14.246341  \n",
       "3            16.912736  \n",
       "4            12.488369  "
      ]
     },
     "execution_count": 4,
     "metadata": {},
     "output_type": "execute_result"
    }
   ],
   "source": [
    "df.head()"
   ]
  },
  {
   "cell_type": "code",
   "execution_count": 7,
   "id": "8547f081-fe05-4d8f-9ca3-03eaf67dcea3",
   "metadata": {},
   "outputs": [
    {
     "data": {
      "text/plain": [
       "(9704, 11)"
      ]
     },
     "execution_count": 7,
     "metadata": {},
     "output_type": "execute_result"
    }
   ],
   "source": [
    "# Q2. Records count\n",
    "## How many records are in the dataset?\n",
    "df.shape"
   ]
  },
  {
   "cell_type": "code",
   "execution_count": 13,
   "id": "50d38833-241f-495d-86a4-bb6c6ceb82d9",
   "metadata": {},
   "outputs": [
    {
     "data": {
      "text/plain": [
       "2"
      ]
     },
     "execution_count": 13,
     "metadata": {},
     "output_type": "execute_result"
    }
   ],
   "source": [
    "# Q3. Fuel types\n",
    "## How many fuel types are presented in the dataset?\n",
    "df[\"fuel_type\"].nunique()"
   ]
  },
  {
   "cell_type": "code",
   "execution_count": 15,
   "id": "04667686-42b4-4bbd-9c06-499320e1b8ec",
   "metadata": {},
   "outputs": [
    {
     "data": {
      "text/plain": [
       "engine_displacement      0\n",
       "num_cylinders          482\n",
       "horsepower             708\n",
       "vehicle_weight           0\n",
       "acceleration           930\n",
       "model_year               0\n",
       "origin                   0\n",
       "fuel_type                0\n",
       "drivetrain               0\n",
       "num_doors              502\n",
       "fuel_efficiency_mpg      0\n",
       "dtype: int64"
      ]
     },
     "execution_count": 15,
     "metadata": {},
     "output_type": "execute_result"
    }
   ],
   "source": [
    "# Q4. Missing values\n",
    "## How many columns in the dataset have missing values?\n",
    "df.isna().sum()"
   ]
  },
  {
   "cell_type": "code",
   "execution_count": 18,
   "id": "b4585014-a0d2-4f99-8a17-3ae37f18a710",
   "metadata": {},
   "outputs": [],
   "source": [
    "# Q5. Max fuel efficiency\n",
    "## What's the maximum fuel efficiency of cars from Asia?\n",
    "asian_cars = df[df[\"origin\"] == \"Asia\"]"
   ]
  },
  {
   "cell_type": "code",
   "execution_count": 23,
   "id": "27e34836-fab8-4b37-9e7f-5231d860ee33",
   "metadata": {},
   "outputs": [
    {
     "data": {
      "text/plain": [
       "np.float64(23.759122836520497)"
      ]
     },
     "execution_count": 23,
     "metadata": {},
     "output_type": "execute_result"
    }
   ],
   "source": [
    "asian_cars[\"fuel_efficiency_mpg\"].max()"
   ]
  },
  {
   "cell_type": "code",
   "execution_count": 24,
   "id": "734d503e-d530-4cae-bca4-6f70515f8247",
   "metadata": {},
   "outputs": [
    {
     "data": {
      "text/plain": [
       "np.float64(149.0)"
      ]
     },
     "execution_count": 24,
     "metadata": {},
     "output_type": "execute_result"
    }
   ],
   "source": [
    "# Q6. Median value of horsepower\n",
    "## Find the median value of horsepower column in the dataset.\n",
    "df[\"horsepower\"].median()"
   ]
  },
  {
   "cell_type": "code",
   "execution_count": 25,
   "id": "c6801317-cb4f-49a6-bf76-1b4830e59ddc",
   "metadata": {},
   "outputs": [
    {
     "data": {
      "text/plain": [
       "0    152.0\n",
       "Name: horsepower, dtype: float64"
      ]
     },
     "execution_count": 25,
     "metadata": {},
     "output_type": "execute_result"
    }
   ],
   "source": [
    "## Next, calculate the most frequent value of the same horsepower column.\n",
    "df[\"horsepower\"].mode()"
   ]
  },
  {
   "cell_type": "code",
   "execution_count": 26,
   "id": "b3ace244-261a-48ac-abf4-8fc96356a023",
   "metadata": {},
   "outputs": [],
   "source": [
    "## Use fillna method to fill the missing values in horsepower column with the most frequent value from the previous step.\n",
    "df[\"horsepower\"] = df[\"horsepower\"].fillna(152.0)"
   ]
  },
  {
   "cell_type": "code",
   "execution_count": 27,
   "id": "9d44865d-1b30-408d-b226-97aa8edca174",
   "metadata": {},
   "outputs": [
    {
     "data": {
      "text/plain": [
       "np.float64(152.0)"
      ]
     },
     "execution_count": 27,
     "metadata": {},
     "output_type": "execute_result"
    }
   ],
   "source": [
    "## Now, calculate the median value of horsepower once again.\n",
    "df[\"horsepower\"].median()"
   ]
  },
  {
   "cell_type": "code",
   "execution_count": 28,
   "id": "3f685237-a951-4ca4-a5d9-adc800487e98",
   "metadata": {},
   "outputs": [],
   "source": [
    "## Has it changed?\n",
    "### Yes, it increased"
   ]
  },
  {
   "cell_type": "code",
   "execution_count": 29,
   "id": "324e3b1a-f59f-48dd-9bb3-83a9519215c3",
   "metadata": {},
   "outputs": [
    {
     "data": {
      "text/html": [
       "<div>\n",
       "<style scoped>\n",
       "    .dataframe tbody tr th:only-of-type {\n",
       "        vertical-align: middle;\n",
       "    }\n",
       "\n",
       "    .dataframe tbody tr th {\n",
       "        vertical-align: top;\n",
       "    }\n",
       "\n",
       "    .dataframe thead th {\n",
       "        text-align: right;\n",
       "    }\n",
       "</style>\n",
       "<table border=\"1\" class=\"dataframe\">\n",
       "  <thead>\n",
       "    <tr style=\"text-align: right;\">\n",
       "      <th></th>\n",
       "      <th>engine_displacement</th>\n",
       "      <th>num_cylinders</th>\n",
       "      <th>horsepower</th>\n",
       "      <th>vehicle_weight</th>\n",
       "      <th>acceleration</th>\n",
       "      <th>model_year</th>\n",
       "      <th>origin</th>\n",
       "      <th>fuel_type</th>\n",
       "      <th>drivetrain</th>\n",
       "      <th>num_doors</th>\n",
       "      <th>fuel_efficiency_mpg</th>\n",
       "    </tr>\n",
       "  </thead>\n",
       "  <tbody>\n",
       "    <tr>\n",
       "      <th>8</th>\n",
       "      <td>250</td>\n",
       "      <td>1.0</td>\n",
       "      <td>174.0</td>\n",
       "      <td>2714.219310</td>\n",
       "      <td>10.3</td>\n",
       "      <td>2016</td>\n",
       "      <td>Asia</td>\n",
       "      <td>Diesel</td>\n",
       "      <td>Front-wheel drive</td>\n",
       "      <td>-1.0</td>\n",
       "      <td>16.823554</td>\n",
       "    </tr>\n",
       "    <tr>\n",
       "      <th>12</th>\n",
       "      <td>320</td>\n",
       "      <td>5.0</td>\n",
       "      <td>145.0</td>\n",
       "      <td>2783.868974</td>\n",
       "      <td>15.1</td>\n",
       "      <td>2010</td>\n",
       "      <td>Asia</td>\n",
       "      <td>Diesel</td>\n",
       "      <td>All-wheel drive</td>\n",
       "      <td>1.0</td>\n",
       "      <td>16.175820</td>\n",
       "    </tr>\n",
       "    <tr>\n",
       "      <th>14</th>\n",
       "      <td>200</td>\n",
       "      <td>6.0</td>\n",
       "      <td>160.0</td>\n",
       "      <td>3582.687368</td>\n",
       "      <td>14.9</td>\n",
       "      <td>2007</td>\n",
       "      <td>Asia</td>\n",
       "      <td>Diesel</td>\n",
       "      <td>All-wheel drive</td>\n",
       "      <td>0.0</td>\n",
       "      <td>11.871091</td>\n",
       "    </tr>\n",
       "    <tr>\n",
       "      <th>20</th>\n",
       "      <td>150</td>\n",
       "      <td>3.0</td>\n",
       "      <td>197.0</td>\n",
       "      <td>2231.808142</td>\n",
       "      <td>18.7</td>\n",
       "      <td>2011</td>\n",
       "      <td>Asia</td>\n",
       "      <td>Gasoline</td>\n",
       "      <td>Front-wheel drive</td>\n",
       "      <td>1.0</td>\n",
       "      <td>18.889083</td>\n",
       "    </tr>\n",
       "    <tr>\n",
       "      <th>21</th>\n",
       "      <td>160</td>\n",
       "      <td>4.0</td>\n",
       "      <td>133.0</td>\n",
       "      <td>2659.431451</td>\n",
       "      <td>NaN</td>\n",
       "      <td>2016</td>\n",
       "      <td>Asia</td>\n",
       "      <td>Gasoline</td>\n",
       "      <td>Front-wheel drive</td>\n",
       "      <td>-1.0</td>\n",
       "      <td>16.077730</td>\n",
       "    </tr>\n",
       "  </tbody>\n",
       "</table>\n",
       "</div>"
      ],
      "text/plain": [
       "    engine_displacement  num_cylinders  horsepower  vehicle_weight  \\\n",
       "8                   250            1.0       174.0     2714.219310   \n",
       "12                  320            5.0       145.0     2783.868974   \n",
       "14                  200            6.0       160.0     3582.687368   \n",
       "20                  150            3.0       197.0     2231.808142   \n",
       "21                  160            4.0       133.0     2659.431451   \n",
       "\n",
       "    acceleration  model_year origin fuel_type         drivetrain  num_doors  \\\n",
       "8           10.3        2016   Asia    Diesel  Front-wheel drive       -1.0   \n",
       "12          15.1        2010   Asia    Diesel    All-wheel drive        1.0   \n",
       "14          14.9        2007   Asia    Diesel    All-wheel drive        0.0   \n",
       "20          18.7        2011   Asia  Gasoline  Front-wheel drive        1.0   \n",
       "21           NaN        2016   Asia  Gasoline  Front-wheel drive       -1.0   \n",
       "\n",
       "    fuel_efficiency_mpg  \n",
       "8             16.823554  \n",
       "12            16.175820  \n",
       "14            11.871091  \n",
       "20            18.889083  \n",
       "21            16.077730  "
      ]
     },
     "execution_count": 29,
     "metadata": {},
     "output_type": "execute_result"
    }
   ],
   "source": [
    "# Q7. Sum of weights\n",
    "## Select all the cars from Asia\n",
    "asian_cars.head(5)"
   ]
  },
  {
   "cell_type": "code",
   "execution_count": 30,
   "id": "96eaf127-b049-4095-83a4-8c7d55c22e44",
   "metadata": {},
   "outputs": [],
   "source": [
    "## Select only columns vehicle_weight and model_year\n",
    "asian_cars2 = asian_cars[[\"vehicle_weight\", \"model_year\"]]"
   ]
  },
  {
   "cell_type": "code",
   "execution_count": 32,
   "id": "10961b9d-db6b-41f1-a43d-ec4550f0e121",
   "metadata": {},
   "outputs": [],
   "source": [
    "##Select the first 7 values\n",
    "asian_cars3 = asian_cars2.head(7)"
   ]
  },
  {
   "cell_type": "code",
   "execution_count": 33,
   "id": "3ea6d75e-4348-43c5-935c-dcf9231927c8",
   "metadata": {},
   "outputs": [],
   "source": [
    "##Get the underlying NumPy array. Let's call it X.\n",
    "X = asian_cars3.to_numpy()"
   ]
  },
  {
   "cell_type": "code",
   "execution_count": 34,
   "id": "993037e6-126c-4edf-ab41-b524463fb69d",
   "metadata": {},
   "outputs": [],
   "source": [
    "##Compute matrix-matrix multiplication between the transpose of X and X. To get the transpose, use X.T. Let's call the result XTX.\n",
    "XTX = X.T @ X"
   ]
  },
  {
   "cell_type": "code",
   "execution_count": 35,
   "id": "b56e47fa-3e75-4fcc-9f7b-0419e88d520a",
   "metadata": {},
   "outputs": [],
   "source": [
    "##Invert XTX.\n",
    "XTX_inv = np.linalg.inv(XTX)"
   ]
  },
  {
   "cell_type": "code",
   "execution_count": 36,
   "id": "b97c4fee-c578-49d7-9613-3b715344c19f",
   "metadata": {},
   "outputs": [],
   "source": [
    "##Create an array y with values [1100, 1300, 800, 900, 1000, 1100, 1200].\n",
    "y = np.array([1100, 1300, 800, 900, 1000, 1100, 1200])"
   ]
  },
  {
   "cell_type": "code",
   "execution_count": 37,
   "id": "76d49110-b434-49bb-9b5f-7e9bf5f43eec",
   "metadata": {},
   "outputs": [],
   "source": [
    "##Multiply the inverse of XTX with the transpose of X, and then multiply the result by y. Call the result w.\n",
    "w = XTX_inv @ X.T @ y"
   ]
  },
  {
   "cell_type": "code",
   "execution_count": 38,
   "id": "a8596dc2-7156-4af9-a868-16a8a1c8a776",
   "metadata": {},
   "outputs": [
    {
     "name": "stdout",
     "output_type": "stream",
     "text": [
      "0.5187709081074016\n"
     ]
    }
   ],
   "source": [
    "##What's the sum of all the elements of the result?\n",
    "result = w.sum()\n",
    "print(result)"
   ]
  }
 ],
 "metadata": {
  "kernelspec": {
   "display_name": "Python 3 (ipykernel)",
   "language": "python",
   "name": "python3"
  },
  "language_info": {
   "codemirror_mode": {
    "name": "ipython",
    "version": 3
   },
   "file_extension": ".py",
   "mimetype": "text/x-python",
   "name": "python",
   "nbconvert_exporter": "python",
   "pygments_lexer": "ipython3",
   "version": "3.12.1"
  }
 },
 "nbformat": 4,
 "nbformat_minor": 5
}

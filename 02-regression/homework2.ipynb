{
 "cells": [
  {
   "cell_type": "code",
   "execution_count": null,
   "id": "7ea2c50b-c7c6-42d7-8785-de45953580eb",
   "metadata": {},
   "outputs": [],
   "source": []
  }
 ],
 "metadata": {
  "kernelspec": {
   "display_name": "",
   "name": ""
  },
  "language_info": {
   "name": ""
  }
 },
 "nbformat": 4,
 "nbformat_minor": 5
}
